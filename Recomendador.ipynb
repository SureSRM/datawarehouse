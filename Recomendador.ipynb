{
 "cells": [
  {
   "cell_type": "code",
   "execution_count": 2,
   "metadata": {},
   "outputs": [],
   "source": [
    "from surprise import Dataset\n",
    "from surprise.reader import Reader\n",
    "from surprise.model_selection import cross_validate\n",
    "\n",
    "reader = Reader(line_format=u'user item rating', sep=',', rating_scale=(1, 5), skip_lines=1)\n",
    "data = Dataset.load_from_file('./data/ml-latest-small/ratings.csv', reader)\n",
    "\n",
    "# Prepare predict\n",
    "user = str(1)\n",
    "item = str(2)\n",
    "\n",
    "def predict_with(algo):\n",
    "    \n",
    "    # Run 5-fold cross-validation and print results.\n",
    "    cross_validate(algo, data, measures=['RMSE', 'MAE'], cv=5, verbose=True)\n",
    "\n",
    "    # get a prediction for specific users and items.\n",
    "    algo.predict(user, item, r_ui=4, verbose=True)"
   ]
  },
  {
   "cell_type": "code",
   "execution_count": 7,
   "metadata": {},
   "outputs": [
    {
     "name": "stdout",
     "output_type": "stream",
     "text": [
      "Evaluating RMSE, MAE of algorithm SVD on 5 split(s).\n",
      "\n",
      "                  Fold 1  Fold 2  Fold 3  Fold 4  Fold 5  Mean    Std     \n",
      "RMSE (testset)    0.8696  0.8811  0.8690  0.8782  0.8682  0.8732  0.0054  \n",
      "MAE (testset)     0.6706  0.6766  0.6682  0.6731  0.6680  0.6713  0.0032  \n",
      "Fit time          4.01    4.01    4.06    4.01    4.03    4.02    0.02    \n",
      "Test time         0.18    0.17    0.17    0.13    0.17    0.16    0.02    \n",
      "user: 1          item: 2          r_ui = 4.00   est = 4.29   {'was_impossible': False}\n"
     ]
    }
   ],
   "source": [
    "from surprise import SVD\n",
    "\n",
    "predict_with(SVD())"
   ]
  },
  {
   "cell_type": "code",
   "execution_count": 8,
   "metadata": {
    "scrolled": false
   },
   "outputs": [
    {
     "name": "stdout",
     "output_type": "stream",
     "text": [
      "Evaluating RMSE, MAE of algorithm NormalPredictor on 5 split(s).\n",
      "\n",
      "                  Fold 1  Fold 2  Fold 3  Fold 4  Fold 5  Mean    Std     \n",
      "RMSE (testset)    1.4257  1.4159  1.4284  1.4151  1.4221  1.4214  0.0052  \n",
      "MAE (testset)     1.1374  1.1319  1.1446  1.1283  1.1335  1.1351  0.0055  \n",
      "Fit time          0.09    0.11    0.11    0.11    0.11    0.11    0.01    \n",
      "Test time         0.15    0.14    0.15    0.14    0.14    0.15    0.00    \n",
      "user: 1          item: 2          r_ui = 4.00   est = 3.18   {'was_impossible': False}\n"
     ]
    }
   ],
   "source": [
    "from surprise import NormalPredictor\n",
    "\n",
    "predict_with(NormalPredictor())"
   ]
  },
  {
   "cell_type": "code",
   "execution_count": 9,
   "metadata": {},
   "outputs": [
    {
     "name": "stdout",
     "output_type": "stream",
     "text": [
      "Estimating biases using als...\n",
      "Estimating biases using als...\n",
      "Estimating biases using als...\n",
      "Estimating biases using als...\n",
      "Estimating biases using als...\n",
      "Evaluating RMSE, MAE of algorithm BaselineOnly on 5 split(s).\n",
      "\n",
      "                  Fold 1  Fold 2  Fold 3  Fold 4  Fold 5  Mean    Std     \n",
      "RMSE (testset)    0.8702  0.8788  0.8772  0.8744  0.8618  0.8724  0.0061  \n",
      "MAE (testset)     0.6710  0.6785  0.6779  0.6741  0.6627  0.6728  0.0058  \n",
      "Fit time          0.19    0.22    0.22    0.22    0.22    0.22    0.01    \n",
      "Test time         0.14    0.09    0.14    0.14    0.14    0.13    0.02    \n",
      "user: 1          item: 2          r_ui = 4.00   est = 4.24   {'was_impossible': False}\n"
     ]
    }
   ],
   "source": [
    "from surprise import BaselineOnly\n",
    "\n",
    "predict_with(BaselineOnly())"
   ]
  },
  {
   "cell_type": "code",
   "execution_count": 10,
   "metadata": {},
   "outputs": [
    {
     "name": "stdout",
     "output_type": "stream",
     "text": [
      "Computing the msd similarity matrix...\n",
      "Done computing similarity matrix.\n",
      "Computing the msd similarity matrix...\n",
      "Done computing similarity matrix.\n",
      "Computing the msd similarity matrix...\n",
      "Done computing similarity matrix.\n",
      "Computing the msd similarity matrix...\n",
      "Done computing similarity matrix.\n",
      "Computing the msd similarity matrix...\n",
      "Done computing similarity matrix.\n",
      "Evaluating RMSE, MAE of algorithm KNNBasic on 5 split(s).\n",
      "\n",
      "                  Fold 1  Fold 2  Fold 3  Fold 4  Fold 5  Mean    Std     \n",
      "RMSE (testset)    0.9433  0.9413  0.9402  0.9550  0.9500  0.9459  0.0057  \n",
      "MAE (testset)     0.7246  0.7238  0.7210  0.7312  0.7246  0.7251  0.0034  \n",
      "Fit time          0.10    0.12    0.12    0.12    0.12    0.12    0.01    \n",
      "Test time         1.27    1.27    1.24    1.29    1.28    1.27    0.02    \n",
      "user: 1          item: 2          r_ui = 4.00   est = 3.76   {'actual_k': 40, 'was_impossible': False}\n"
     ]
    }
   ],
   "source": [
    "from surprise import KNNBasic\n",
    "\n",
    "predict_with(KNNBasic())"
   ]
  },
  {
   "cell_type": "code",
   "execution_count": 11,
   "metadata": {},
   "outputs": [
    {
     "name": "stdout",
     "output_type": "stream",
     "text": [
      "Computing the msd similarity matrix...\n",
      "Done computing similarity matrix.\n",
      "Computing the msd similarity matrix...\n",
      "Done computing similarity matrix.\n",
      "Computing the msd similarity matrix...\n",
      "Done computing similarity matrix.\n",
      "Computing the msd similarity matrix...\n",
      "Done computing similarity matrix.\n",
      "Computing the msd similarity matrix...\n",
      "Done computing similarity matrix.\n",
      "Evaluating RMSE, MAE of algorithm KNNWithMeans on 5 split(s).\n",
      "\n",
      "                  Fold 1  Fold 2  Fold 3  Fold 4  Fold 5  Mean    Std     \n",
      "RMSE (testset)    0.8996  0.8889  0.8947  0.9023  0.8919  0.8955  0.0049  \n",
      "MAE (testset)     0.6875  0.6825  0.6841  0.6864  0.6823  0.6845  0.0021  \n",
      "Fit time          0.12    0.13    0.14    0.14    0.14    0.13    0.01    \n",
      "Test time         1.35    1.34    1.35    1.32    1.34    1.34    0.01    \n",
      "user: 1          item: 2          r_ui = 4.00   est = 4.45   {'actual_k': 40, 'was_impossible': False}\n"
     ]
    }
   ],
   "source": [
    "from surprise import KNNWithMeans\n",
    "\n",
    "predict_with(KNNWithMeans())"
   ]
  },
  {
   "cell_type": "code",
   "execution_count": 12,
   "metadata": {},
   "outputs": [
    {
     "name": "stdout",
     "output_type": "stream",
     "text": [
      "Computing the msd similarity matrix...\n",
      "Done computing similarity matrix.\n",
      "Computing the msd similarity matrix...\n",
      "Done computing similarity matrix.\n",
      "Computing the msd similarity matrix...\n",
      "Done computing similarity matrix.\n",
      "Computing the msd similarity matrix...\n",
      "Done computing similarity matrix.\n",
      "Computing the msd similarity matrix...\n",
      "Done computing similarity matrix.\n",
      "Evaluating RMSE, MAE of algorithm KNNWithZScore on 5 split(s).\n",
      "\n",
      "                  Fold 1  Fold 2  Fold 3  Fold 4  Fold 5  Mean    Std     \n",
      "RMSE (testset)    0.8923  0.8882  0.8956  0.9005  0.8993  0.8952  0.0046  \n",
      "MAE (testset)     0.6771  0.6760  0.6808  0.6807  0.6829  0.6795  0.0026  \n",
      "Fit time          0.16    0.19    0.19    0.19    0.19    0.18    0.01    \n",
      "Test time         1.58    1.56    1.58    1.57    1.50    1.56    0.03    \n",
      "user: 1          item: 2          r_ui = 4.00   est = 4.31   {'actual_k': 40, 'was_impossible': False}\n"
     ]
    }
   ],
   "source": [
    "from surprise import KNNWithZScore\n",
    "\n",
    "predict_with(KNNWithZScore())"
   ]
  },
  {
   "cell_type": "code",
   "execution_count": 13,
   "metadata": {},
   "outputs": [
    {
     "name": "stdout",
     "output_type": "stream",
     "text": [
      "Estimating biases using als...\n",
      "Computing the msd similarity matrix...\n",
      "Done computing similarity matrix.\n",
      "Estimating biases using als...\n",
      "Computing the msd similarity matrix...\n",
      "Done computing similarity matrix.\n",
      "Estimating biases using als...\n",
      "Computing the msd similarity matrix...\n",
      "Done computing similarity matrix.\n",
      "Estimating biases using als...\n",
      "Computing the msd similarity matrix...\n",
      "Done computing similarity matrix.\n",
      "Estimating biases using als...\n",
      "Computing the msd similarity matrix...\n",
      "Done computing similarity matrix.\n",
      "Evaluating RMSE, MAE of algorithm KNNBaseline on 5 split(s).\n",
      "\n",
      "                  Fold 1  Fold 2  Fold 3  Fold 4  Fold 5  Mean    Std     \n",
      "RMSE (testset)    0.8757  0.8702  0.8686  0.8786  0.8748  0.8736  0.0037  \n",
      "MAE (testset)     0.6685  0.6667  0.6652  0.6723  0.6668  0.6679  0.0024  \n",
      "Fit time          0.29    0.33    0.33    0.34    0.31    0.32    0.02    \n",
      "Test time         1.77    1.74    1.69    1.70    1.66    1.71    0.04    \n",
      "user: 1          item: 2          r_ui = 4.00   est = 4.19   {'actual_k': 40, 'was_impossible': False}\n"
     ]
    }
   ],
   "source": [
    "from surprise import KNNBaseline\n",
    "\n",
    "predict_with(KNNBaseline())"
   ]
  },
  {
   "cell_type": "code",
   "execution_count": null,
   "metadata": {
    "scrolled": false
   },
   "outputs": [],
   "source": [
    "from surprise import SVDpp\n",
    "\n",
    "predict_with(SVDpp())"
   ]
  },
  {
   "cell_type": "code",
   "execution_count": 15,
   "metadata": {},
   "outputs": [
    {
     "name": "stdout",
     "output_type": "stream",
     "text": [
      "Evaluating RMSE, MAE of algorithm NMF on 5 split(s).\n",
      "\n",
      "                  Fold 1  Fold 2  Fold 3  Fold 4  Fold 5  Mean    Std     \n",
      "RMSE (testset)    0.9127  0.9176  0.9321  0.9300  0.9132  0.9211  0.0083  \n",
      "MAE (testset)     0.6989  0.7035  0.7132  0.7095  0.6999  0.7050  0.0055  \n",
      "Fit time          4.61    4.81    4.90    4.67    4.60    4.72    0.12    \n",
      "Test time         0.16    0.16    0.16    0.16    0.16    0.16    0.00    \n",
      "user: 1          item: 2          r_ui = 4.00   est = 4.07   {'was_impossible': False}\n"
     ]
    }
   ],
   "source": [
    "from surprise import NMF\n",
    "\n",
    "predict_with(NMF())"
   ]
  },
  {
   "cell_type": "code",
   "execution_count": 3,
   "metadata": {},
   "outputs": [
    {
     "name": "stdout",
     "output_type": "stream",
     "text": [
      "Evaluating RMSE, MAE of algorithm SlopeOne on 5 split(s).\n",
      "\n",
      "                  Fold 1  Fold 2  Fold 3  Fold 4  Fold 5  Mean    Std     \n",
      "RMSE (testset)    0.8933  0.9117  0.8969  0.8934  0.9081  0.9007  0.0077  \n",
      "MAE (testset)     0.6806  0.6986  0.6869  0.6816  0.6924  0.6880  0.0068  \n",
      "Fit time          3.80    3.89    3.89    3.81    3.84    3.85    0.04    \n",
      "Test time         5.89    5.84    5.92    5.84    5.99    5.90    0.06    \n",
      "user: 1          item: 2          r_ui = 4.00   est = 3.97   {'was_impossible': False}\n"
     ]
    }
   ],
   "source": [
    "from surprise import SlopeOne\n",
    "\n",
    "predict_with(SlopeOne())"
   ]
  },
  {
   "cell_type": "code",
   "execution_count": 4,
   "metadata": {},
   "outputs": [
    {
     "name": "stdout",
     "output_type": "stream",
     "text": [
      "Evaluating RMSE, MAE of algorithm CoClustering on 5 split(s).\n",
      "\n",
      "                  Fold 1  Fold 2  Fold 3  Fold 4  Fold 5  Mean    Std     \n",
      "RMSE (testset)    0.9446  0.9438  0.9434  0.9379  0.9329  0.9405  0.0045  \n",
      "MAE (testset)     0.7328  0.7318  0.7299  0.7257  0.7220  0.7284  0.0040  \n",
      "Fit time          1.74    1.79    1.74    1.78    1.77    1.77    0.02    \n",
      "Test time         0.13    0.12    0.08    0.12    0.12    0.12    0.02    \n",
      "user: 1          item: 2          r_ui = 4.00   est = 3.82   {'was_impossible': False}\n"
     ]
    }
   ],
   "source": [
    "from surprise import CoClustering\n",
    "\n",
    "predict_with(CoClustering())"
   ]
  }
 ],
 "metadata": {
  "kernelspec": {
   "display_name": "Python 3",
   "language": "python",
   "name": "python3"
  },
  "language_info": {
   "codemirror_mode": {
    "name": "ipython",
    "version": 3
   },
   "file_extension": ".py",
   "mimetype": "text/x-python",
   "name": "python",
   "nbconvert_exporter": "python",
   "pygments_lexer": "ipython3",
   "version": "3.6.7"
  }
 },
 "nbformat": 4,
 "nbformat_minor": 2
}
