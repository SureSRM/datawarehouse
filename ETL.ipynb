{
 "cells": [
  {
   "cell_type": "markdown",
   "metadata": {},
   "source": [
    "# Dataosuces declaration"
   ]
  },
  {
   "cell_type": "markdown",
   "metadata": {},
   "source": [
    "## IMDB Datasource"
   ]
  },
  {
   "cell_type": "code",
   "execution_count": 1,
   "metadata": {},
   "outputs": [],
   "source": [
    "from imdb import IMDb\n",
    "imdb = IMDb()\n",
    "# [ (x.data['title'], x.data['rating']) for x in imdb.get_top250_movies() ][0:25]"
   ]
  },
  {
   "cell_type": "markdown",
   "metadata": {},
   "source": [
    "## MovieLens Datasource"
   ]
  },
  {
   "cell_type": "code",
   "execution_count": 2,
   "metadata": {},
   "outputs": [],
   "source": [
    "import urllib.request\n",
    "import zipfile\n",
    "\n",
    "url = 'http://files.grouplens.org/datasets/movielens/ml-20m.zip'\n",
    "download_path = './data/ml-20m.zip'\n",
    "extract_path = './data/'\n",
    "\n",
    "# urllib.request.urlretrieve(url, download_path)\n",
    "\n",
    "# with zipfile.ZipFile(download_path, 'r') as zip:\n",
    "#     zip.extractall(extract_path)"
   ]
  },
  {
   "cell_type": "code",
   "execution_count": 3,
   "metadata": {},
   "outputs": [],
   "source": [
    "datasets = {\n",
    "    'genome-scores': './data/ml-20m/genome-scores.csv',\n",
    "    'genome-tags': './data/ml-20m/genome-tags.csv',\n",
    "    'links': './data/ml-20m/links.csv',\n",
    "    'movie': './data/ml-20m/movies.csv',\n",
    "    'ratings': './data/ml-20m/ratings.csv',\n",
    "    'tags': './data/ml-20m/tags.csv',\n",
    "}"
   ]
  },
  {
   "cell_type": "markdown",
   "metadata": {},
   "source": [
    "# Data Profiling"
   ]
  },
  {
   "cell_type": "code",
   "execution_count": 4,
   "metadata": {},
   "outputs": [],
   "source": [
    "import pandas_profiling\n",
    "import pandas as pd\n",
    "\n",
    "def read(dataset):\n",
    "    print('Reading: ', datasets[dataset])\n",
    "    return pd.read_csv(datasets[dataset])"
   ]
  },
  {
   "cell_type": "code",
   "execution_count": 5,
   "metadata": {},
   "outputs": [],
   "source": [
    "from IPython.display import display\n",
    "\n",
    "# for dataset_k in datasets:\n",
    "#     df = read(dataset_k)\n",
    "#     display(df.head())"
   ]
  },
  {
   "cell_type": "markdown",
   "metadata": {},
   "source": [
    "# Cube creation"
   ]
  },
  {
   "cell_type": "code",
   "execution_count": 6,
   "metadata": {},
   "outputs": [
    {
     "name": "stdout",
     "output_type": "stream",
     "text": [
      "Reading:  ./data/ml-20m/links.csv\n",
      "Reading:  ./data/ml-20m/ratings.csv\n"
     ]
    }
   ],
   "source": [
    "links = read('links')\n",
    "ratings = read('ratings')"
   ]
  },
  {
   "cell_type": "markdown",
   "metadata": {},
   "source": [
    "## Facts"
   ]
  },
  {
   "cell_type": "code",
   "execution_count": 7,
   "metadata": {},
   "outputs": [
    {
     "data": {
      "text/html": [
       "<div>\n",
       "<style scoped>\n",
       "    .dataframe tbody tr th:only-of-type {\n",
       "        vertical-align: middle;\n",
       "    }\n",
       "\n",
       "    .dataframe tbody tr th {\n",
       "        vertical-align: top;\n",
       "    }\n",
       "\n",
       "    .dataframe thead th {\n",
       "        text-align: right;\n",
       "    }\n",
       "</style>\n",
       "<table border=\"1\" class=\"dataframe\">\n",
       "  <thead>\n",
       "    <tr style=\"text-align: right;\">\n",
       "      <th></th>\n",
       "      <th>userId</th>\n",
       "      <th>movieId</th>\n",
       "      <th>rating</th>\n",
       "      <th>timestamp</th>\n",
       "    </tr>\n",
       "  </thead>\n",
       "  <tbody>\n",
       "    <tr>\n",
       "      <th>0</th>\n",
       "      <td>1</td>\n",
       "      <td>2</td>\n",
       "      <td>3.5</td>\n",
       "      <td>1112486027</td>\n",
       "    </tr>\n",
       "    <tr>\n",
       "      <th>1</th>\n",
       "      <td>1</td>\n",
       "      <td>29</td>\n",
       "      <td>3.5</td>\n",
       "      <td>1112484676</td>\n",
       "    </tr>\n",
       "    <tr>\n",
       "      <th>2</th>\n",
       "      <td>1</td>\n",
       "      <td>32</td>\n",
       "      <td>3.5</td>\n",
       "      <td>1112484819</td>\n",
       "    </tr>\n",
       "    <tr>\n",
       "      <th>3</th>\n",
       "      <td>1</td>\n",
       "      <td>47</td>\n",
       "      <td>3.5</td>\n",
       "      <td>1112484727</td>\n",
       "    </tr>\n",
       "    <tr>\n",
       "      <th>4</th>\n",
       "      <td>1</td>\n",
       "      <td>50</td>\n",
       "      <td>3.5</td>\n",
       "      <td>1112484580</td>\n",
       "    </tr>\n",
       "  </tbody>\n",
       "</table>\n",
       "</div>"
      ],
      "text/plain": [
       "   userId  movieId  rating   timestamp\n",
       "0       1        2     3.5  1112486027\n",
       "1       1       29     3.5  1112484676\n",
       "2       1       32     3.5  1112484819\n",
       "3       1       47     3.5  1112484727\n",
       "4       1       50     3.5  1112484580"
      ]
     },
     "execution_count": 7,
     "metadata": {},
     "output_type": "execute_result"
    }
   ],
   "source": [
    "ratings.head()"
   ]
  },
  {
   "cell_type": "markdown",
   "metadata": {},
   "source": [
    "## Dimensions"
   ]
  },
  {
   "cell_type": "markdown",
   "metadata": {},
   "source": [
    "### Time and Date"
   ]
  },
  {
   "cell_type": "code",
   "execution_count": 8,
   "metadata": {},
   "outputs": [
    {
     "data": {
      "text/plain": [
       "({'anyo': 2005, 'mes': 4, 'dia': 2, 'mes_texto': 'abril'},\n",
       " {'hour': 23, 'minute': 53, 'second': 47})"
      ]
     },
     "execution_count": 8,
     "metadata": {},
     "output_type": "execute_result"
    }
   ],
   "source": [
    "from datetime import datetime as dt\n",
    "\n",
    "mesToTexto = [\n",
    "    'enero',\n",
    "    'febrero',\n",
    "    'marzo',\n",
    "    'abril',\n",
    "    'mayo',\n",
    "    'junio',\n",
    "    'julio',\n",
    "    'agosto',\n",
    "    'septiembre',\n",
    "    'octubre',\n",
    "    'noviembre',\n",
    "    'diciembre',\n",
    "]\n",
    "\n",
    "def getDate(ts):\n",
    "    time = dt.fromtimestamp(ts)\n",
    "    return {\n",
    "        'anyo':  time.year,\n",
    "        'mes':  time.month,\n",
    "        'dia':  time.day,\n",
    "        'mes_texto': mesToTexto[time.month-1]\n",
    "    }\n",
    "\n",
    "def getHour(ts):\n",
    "    time = dt.fromtimestamp(ts)\n",
    "    return {\n",
    "        'hour':  time.hour,\n",
    "        'minute':  time.minute,\n",
    "        'second':  time.second,\n",
    "    }\n",
    "\n",
    "(getDate(1112486027), getHour(1112486027))"
   ]
  },
  {
   "cell_type": "markdown",
   "metadata": {},
   "source": [
    "### Film"
   ]
  },
  {
   "cell_type": "code",
   "execution_count": 9,
   "metadata": {},
   "outputs": [
    {
     "name": "stdout",
     "output_type": "stream",
     "text": [
      "Finding movie id\n",
      "Fetching movie\n",
      "Movie fetched\n"
     ]
    },
    {
     "data": {
      "text/plain": [
       "{'title': 'The City of Lost Children', 'year': 1995, '_movieId': 29}"
      ]
     },
     "execution_count": 9,
     "metadata": {},
     "output_type": "execute_result"
    }
   ],
   "source": [
    "def getFilm(movie_id):\n",
    "    print('Finding movie id')\n",
    "    imdbId = links.loc[links['movieId'] == movie_id]['imdbId']\n",
    "    print('Fetching movie')\n",
    "    movie = imdb.get_movie(imdbId)\n",
    "    print('Movie fetched')\n",
    "    return {\n",
    "        'title': movie.data['title'],\n",
    "        'year': movie.data['year'],\n",
    "        '_movieId': movie_id,\n",
    "    }\n",
    "\n",
    "getFilm(29)"
   ]
  },
  {
   "cell_type": "markdown",
   "metadata": {},
   "source": [
    "# ETL"
   ]
  },
  {
   "cell_type": "code",
   "execution_count": 10,
   "metadata": {},
   "outputs": [],
   "source": [
    "datasets = {\n",
    "    'genome-scores': './data/ml-20m/genome-scores.csv',\n",
    "    'genome-tags': './data/ml-20m/genome-tags.csv',\n",
    "    'links': './data/ml-20m/links.csv',\n",
    "    'movie': './data/ml-20m/movies.csv',\n",
    "    'ratings': './data/ml-20m/ratings.csv',\n",
    "    'tags': './data/ml-20m/tags.csv',\n",
    "}"
   ]
  },
  {
   "cell_type": "code",
   "execution_count": 11,
   "metadata": {},
   "outputs": [],
   "source": [
    "import pandas_profiling\n",
    "import pandas as pd\n",
    "\n",
    "def read(dataset):\n",
    "    print('Reading: ', datasets[dataset])\n",
    "    return pd.read_csv(datasets[dataset])"
   ]
  },
  {
   "cell_type": "code",
   "execution_count": 12,
   "metadata": {},
   "outputs": [],
   "source": [
    "def extractRating(*args):\n",
    "    yield {\n",
    "        'movieId': args[1],\n",
    "        'rating': args[2],\n",
    "        'timestamp': args[3],\n",
    "    }"
   ]
  },
  {
   "cell_type": "code",
   "execution_count": 13,
   "metadata": {},
   "outputs": [],
   "source": [
    "def addDate(rating):\n",
    "    date = getDate(int(rating['timestamp']))\n",
    "#     Insertar en la BBDD el date y obtener su ID\n",
    "    rating['dateId'] = 'dateidmock'\n",
    "    yield rating"
   ]
  },
  {
   "cell_type": "code",
   "execution_count": 14,
   "metadata": {},
   "outputs": [],
   "source": [
    "def addHour(rating):\n",
    "    hour = getHour(int(rating['timestamp']))\n",
    "#   Buscar si ya existe la hora\n",
    "    \n",
    "#     Insertar en la BBDD el date y obtener su ID\n",
    "    rating['hourId'] = 'houridmock'\n",
    "    yield rating"
   ]
  },
  {
   "cell_type": "code",
   "execution_count": 16,
   "metadata": {},
   "outputs": [
    {
     "name": "stdout",
     "output_type": "stream",
     "text": [
      "Reading:  ./data/ml-20m/links.csv\n"
     ]
    }
   ],
   "source": [
    "links = read('links')\n",
    "def addFilm(rating):\n",
    "#   Buscar si ya existe el id SELECT where movieID\n",
    "    film = getFilm(int(rating['movieId']))\n",
    "#     Insertar en la BBDD el date y obtener su ID\n",
    "    rating['filmId'] = 'filmidmock'\n",
    "    yield rating"
   ]
  },
  {
   "cell_type": "code",
   "execution_count": 17,
   "metadata": {},
   "outputs": [],
   "source": [
    "def load(rating):\n",
    "    print(rating)"
   ]
  },
  {
   "cell_type": "code",
   "execution_count": 18,
   "metadata": {},
   "outputs": [
    {
     "data": {
      "text/plain": [
       "GraphRange(graph=<bonobo.structs.graphs.Graph object at 0x7f7f75546668>, input=0, output=4)"
      ]
     },
     "execution_count": 18,
     "metadata": {},
     "output_type": "execute_result"
    }
   ],
   "source": [
    "import bonobo\n",
    "\n",
    "# extract = bonobo.CsvReader(datasets['ratings'])\n",
    "\n",
    "def extract():\n",
    "    yield {'movieId': '2', 'rating': '3.5', 'timestamp': '1112486027'}\n",
    "    yield {'movieId': '29', 'rating': '3.5', 'timestamp': '1112484676'}\n",
    "    yield {'movieId': '32', 'rating': '3.5', 'timestamp': '1112484819'}\n",
    "    yield {'movieId': '47', 'rating': '3.5', 'timestamp': '1112484727'}\n",
    "    yield {'movieId': '50', 'rating': '3.5', 'timestamp': '1112484580'}\n",
    "    yield {'movieId': '112', 'rating': '3.5', 'timestamp': '1094785740'}\n",
    "    yield {'movieId': '151', 'rating': '4.0', 'timestamp': '1094785734'}\n",
    "    yield {'movieId': '223', 'rating': '4.0', 'timestamp': '1112485573'}\n",
    "    yield {'movieId': '253', 'rating': '4.0', 'timestamp': '1112484940'}\n",
    "    yield {'movieId': '260', 'rating': '4.0', 'timestamp': '1112484826'}\n",
    "\n",
    "graph = bonobo.Graph()\n",
    "graph.add_chain(\n",
    "    extract,\n",
    "#     extractRating,\n",
    "    addDate,\n",
    "    addHour,\n",
    "    addFilm,\n",
    "    load,\n",
    ")"
   ]
  },
  {
   "cell_type": "code",
   "execution_count": 19,
   "metadata": {},
   "outputs": [
    {
     "data": {
      "application/vnd.jupyter.widget-view+json": {
       "model_id": "3a4163f4272b44eaa483477127d426d2",
       "version_major": 2,
       "version_minor": 0
      },
      "text/plain": [
       "BonoboWidget()"
      ]
     },
     "metadata": {},
     "output_type": "display_data"
    },
    {
     "name": "stdout",
     "output_type": "stream",
     "text": [
      "Finding movie id\n",
      "Fetching movie\n"
     ]
    },
    {
     "name": "stderr",
     "output_type": "stream",
     "text": [
      "INFO:imdb.parser.http.piculet:using lxml html builder\n",
      "INFO:imdb.parser.http.piculet:using lxml html builder\n"
     ]
    },
    {
     "name": "stdout",
     "output_type": "stream",
     "text": [
      "Movie fetched\n",
      "Finding movie id\n",
      "{'movieId': '2', 'rating': '3.5', 'timestamp': '1112486027', 'dateId': 'dateidmock', 'hourId': 'houridmock', 'filmId': 'filmidmock'}Fetching movie\n",
      "\n"
     ]
    },
    {
     "name": "stderr",
     "output_type": "stream",
     "text": [
      "INFO:imdb.parser.http.piculet:using lxml html builder\n",
      "INFO:imdb.parser.http.piculet:using lxml html builder\n"
     ]
    },
    {
     "name": "stdout",
     "output_type": "stream",
     "text": [
      "Movie fetched\n",
      "Finding movie id\n",
      "{'movieId': '29', 'rating': '3.5', 'timestamp': '1112484676', 'dateId': 'dateidmock', 'hourId': 'houridmock', 'filmId': 'filmidmock'}\n",
      "Fetching movie\n"
     ]
    },
    {
     "name": "stderr",
     "output_type": "stream",
     "text": [
      "INFO:imdb.parser.http.piculet:using lxml html builder\n",
      "INFO:imdb.parser.http.piculet:using lxml html builder\n"
     ]
    },
    {
     "name": "stdout",
     "output_type": "stream",
     "text": [
      "Movie fetched\n",
      "Finding movie id\n",
      "{'movieId': '32', 'rating': '3.5', 'timestamp': '1112484819', 'dateId': 'dateidmock', 'hourId': 'houridmock', 'filmId': 'filmidmock'}\n",
      "Fetching movie\n"
     ]
    },
    {
     "name": "stderr",
     "output_type": "stream",
     "text": [
      "INFO:imdb.parser.http.piculet:using lxml html builder\n",
      "INFO:imdb.parser.http.piculet:using lxml html builder\n"
     ]
    },
    {
     "name": "stdout",
     "output_type": "stream",
     "text": [
      "Movie fetched\n",
      "Finding movie id\n",
      "{'movieId': '47', 'rating': '3.5', 'timestamp': '1112484727', 'dateId': 'dateidmock', 'hourId': 'houridmock', 'filmId': 'filmidmock'}\n",
      "Fetching movie\n"
     ]
    },
    {
     "name": "stderr",
     "output_type": "stream",
     "text": [
      "INFO:imdb.parser.http.piculet:using lxml html builder\n",
      "INFO:imdb.parser.http.piculet:using lxml html builder\n"
     ]
    },
    {
     "name": "stdout",
     "output_type": "stream",
     "text": [
      "Movie fetched\n",
      "Finding movie id\n",
      "{'movieId': '50', 'rating': '3.5', 'timestamp': '1112484580', 'dateId': 'dateidmock', 'hourId': 'houridmock', 'filmId': 'filmidmock'}\n",
      "Fetching movie\n"
     ]
    },
    {
     "name": "stderr",
     "output_type": "stream",
     "text": [
      "INFO:imdb.parser.http.piculet:using lxml html builder\n",
      "INFO:imdb.parser.http.piculet:using lxml html builder\n"
     ]
    },
    {
     "name": "stdout",
     "output_type": "stream",
     "text": [
      "Movie fetched\n",
      "Finding movie id\n",
      "{'movieId': '112', 'rating': '3.5', 'timestamp': '1094785740', 'dateId': 'dateidmock', 'hourId': 'houridmock', 'filmId': 'filmidmock'}\n",
      "Fetching movie\n"
     ]
    },
    {
     "name": "stderr",
     "output_type": "stream",
     "text": [
      "INFO:imdb.parser.http.piculet:using lxml html builder\n",
      "INFO:imdb.parser.http.piculet:using lxml html builder\n"
     ]
    },
    {
     "name": "stdout",
     "output_type": "stream",
     "text": [
      "Movie fetched\n",
      "Finding movie id\n",
      "{'movieId': '151', 'rating': '4.0', 'timestamp': '1094785734', 'dateId': 'dateidmock', 'hourId': 'houridmock', 'filmId': 'filmidmock'}\n",
      "Fetching movie\n"
     ]
    },
    {
     "name": "stderr",
     "output_type": "stream",
     "text": [
      "INFO:imdb.parser.http.piculet:using lxml html builder\n",
      "INFO:imdb.parser.http.piculet:using lxml html builder\n"
     ]
    },
    {
     "name": "stdout",
     "output_type": "stream",
     "text": [
      "Movie fetched\n",
      "Finding movie id\n",
      "{'movieId': '223', 'rating': '4.0', 'timestamp': '1112485573', 'dateId': 'dateidmock', 'hourId': 'houridmock', 'filmId': 'filmidmock'}Fetching movie\n",
      "\n"
     ]
    },
    {
     "name": "stderr",
     "output_type": "stream",
     "text": [
      "INFO:imdb.parser.http.piculet:using lxml html builder\n",
      "INFO:imdb.parser.http.piculet:using lxml html builder\n"
     ]
    },
    {
     "name": "stdout",
     "output_type": "stream",
     "text": [
      "Movie fetched\n",
      "Finding movie id\n",
      "{'movieId': '253', 'rating': '4.0', 'timestamp': '1112484940', 'dateId': 'dateidmock', 'hourId': 'houridmock', 'filmId': 'filmidmock'}\n",
      "Fetching movie\n"
     ]
    },
    {
     "name": "stderr",
     "output_type": "stream",
     "text": [
      "INFO:imdb.parser.http.piculet:using lxml html builder\n",
      "INFO:imdb.parser.http.piculet:using lxml html builder\n"
     ]
    },
    {
     "name": "stdout",
     "output_type": "stream",
     "text": [
      "Movie fetched\n",
      "{'movieId': '260', 'rating': '4.0', 'timestamp': '1112484826', 'dateId': 'dateidmock', 'hourId': 'houridmock', 'filmId': 'filmidmock'}\n"
     ]
    },
    {
     "data": {
      "text/plain": [
       "<bonobo.execution.contexts.graph.GraphExecutionContext at 0x7f7f54909cc0>"
      ]
     },
     "execution_count": 19,
     "metadata": {},
     "output_type": "execute_result"
    }
   ],
   "source": [
    "bonobo.run(graph)"
   ]
  }
 ],
 "metadata": {
  "kernelspec": {
   "display_name": "Python 3",
   "language": "python",
   "name": "python3"
  },
  "language_info": {
   "codemirror_mode": {
    "name": "ipython",
    "version": 3
   },
   "file_extension": ".py",
   "mimetype": "text/x-python",
   "name": "python",
   "nbconvert_exporter": "python",
   "pygments_lexer": "ipython3",
   "version": "3.6.7"
  }
 },
 "nbformat": 4,
 "nbformat_minor": 2
}
