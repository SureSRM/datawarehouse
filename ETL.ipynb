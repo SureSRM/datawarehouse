{
 "cells": [
  {
   "cell_type": "markdown",
   "metadata": {},
   "source": [
    "# Dataosuces declaration"
   ]
  },
  {
   "cell_type": "markdown",
   "metadata": {},
   "source": [
    "## IMDB Datasource"
   ]
  },
  {
   "cell_type": "code",
   "execution_count": 1,
   "metadata": {},
   "outputs": [],
   "source": [
    "from imdb import IMDb\n",
    "imdb = IMDb()\n",
    "# [ (x.data['title'], x.data['rating']) for x in imdb.get_top250_movies() ][0:25]"
   ]
  },
  {
   "cell_type": "markdown",
   "metadata": {},
   "source": [
    "## MovieLens Datasource"
   ]
  },
  {
   "cell_type": "code",
   "execution_count": 2,
   "metadata": {},
   "outputs": [],
   "source": [
    "import urllib.request\n",
    "import zipfile\n",
    "\n",
    "url = 'http://files.grouplens.org/datasets/movielens/ml-20m.zip'\n",
    "download_path = './data/ml-20m.zip'\n",
    "extract_path = './data/'\n",
    "\n",
    "# urllib.request.urlretrieve(url, download_path)\n",
    "\n",
    "# with zipfile.ZipFile(download_path, 'r') as zip:\n",
    "#     zip.extractall(extract_path)"
   ]
  },
  {
   "cell_type": "code",
   "execution_count": 3,
   "metadata": {},
   "outputs": [],
   "source": [
    "datasets = {\n",
    "    'genome-scores': './data/ml-20m/genome-scores.csv',\n",
    "    'genome-tags': './data/ml-20m/genome-tags.csv',\n",
    "    'links': './data/ml-20m/links.csv',\n",
    "    'movie': './data/ml-20m/movies.csv',\n",
    "    'ratings': './data/ml-20m/ratings.csv',\n",
    "    'tags': './data/ml-20m/tags.csv',\n",
    "}"
   ]
  },
  {
   "cell_type": "markdown",
   "metadata": {},
   "source": [
    "# Data Profiling"
   ]
  },
  {
   "cell_type": "code",
   "execution_count": 4,
   "metadata": {},
   "outputs": [],
   "source": [
    "import pandas_profiling\n",
    "import pandas as pd\n",
    "\n",
    "def read(dataset):\n",
    "    print('Reading: ', datasets[dataset])\n",
    "    return pd.read_csv(datasets[dataset])"
   ]
  },
  {
   "cell_type": "code",
   "execution_count": 5,
   "metadata": {},
   "outputs": [],
   "source": [
    "from IPython.display import display\n",
    "\n",
    "# for dataset_k in datasets:\n",
    "#     df = read(dataset_k)\n",
    "#     display(df.head())"
   ]
  },
  {
   "cell_type": "markdown",
   "metadata": {},
   "source": [
    "# Cube creation"
   ]
  },
  {
   "cell_type": "code",
   "execution_count": 6,
   "metadata": {
    "scrolled": true
   },
   "outputs": [
    {
     "name": "stdout",
     "output_type": "stream",
     "text": [
      "Reading:  ./data/ml-20m/links.csv\n",
      "Reading:  ./data/ml-20m/ratings.csv\n"
     ]
    }
   ],
   "source": [
    "links = read('links')\n",
    "ratings = read('ratings')"
   ]
  },
  {
   "cell_type": "markdown",
   "metadata": {},
   "source": [
    "## Facts"
   ]
  },
  {
   "cell_type": "code",
   "execution_count": 7,
   "metadata": {},
   "outputs": [
    {
     "data": {
      "text/html": [
       "<div>\n",
       "<style scoped>\n",
       "    .dataframe tbody tr th:only-of-type {\n",
       "        vertical-align: middle;\n",
       "    }\n",
       "\n",
       "    .dataframe tbody tr th {\n",
       "        vertical-align: top;\n",
       "    }\n",
       "\n",
       "    .dataframe thead th {\n",
       "        text-align: right;\n",
       "    }\n",
       "</style>\n",
       "<table border=\"1\" class=\"dataframe\">\n",
       "  <thead>\n",
       "    <tr style=\"text-align: right;\">\n",
       "      <th></th>\n",
       "      <th>userId</th>\n",
       "      <th>movieId</th>\n",
       "      <th>rating</th>\n",
       "      <th>timestamp</th>\n",
       "    </tr>\n",
       "  </thead>\n",
       "  <tbody>\n",
       "    <tr>\n",
       "      <th>0</th>\n",
       "      <td>1</td>\n",
       "      <td>2.0</td>\n",
       "      <td>3.5</td>\n",
       "      <td>1112486027</td>\n",
       "    </tr>\n",
       "    <tr>\n",
       "      <th>1</th>\n",
       "      <td>1</td>\n",
       "      <td>29.0</td>\n",
       "      <td>3.5</td>\n",
       "      <td>1112484676</td>\n",
       "    </tr>\n",
       "    <tr>\n",
       "      <th>2</th>\n",
       "      <td>1</td>\n",
       "      <td>32.0</td>\n",
       "      <td>3.5</td>\n",
       "      <td>1112484819</td>\n",
       "    </tr>\n",
       "    <tr>\n",
       "      <th>3</th>\n",
       "      <td>1</td>\n",
       "      <td>47.0</td>\n",
       "      <td>3.5</td>\n",
       "      <td>1112484727</td>\n",
       "    </tr>\n",
       "    <tr>\n",
       "      <th>4</th>\n",
       "      <td>1</td>\n",
       "      <td>50.0</td>\n",
       "      <td>3.5</td>\n",
       "      <td>1112484580</td>\n",
       "    </tr>\n",
       "  </tbody>\n",
       "</table>\n",
       "</div>"
      ],
      "text/plain": [
       "   userId  movieId  rating   timestamp\n",
       "0       1      2.0     3.5  1112486027\n",
       "1       1     29.0     3.5  1112484676\n",
       "2       1     32.0     3.5  1112484819\n",
       "3       1     47.0     3.5  1112484727\n",
       "4       1     50.0     3.5  1112484580"
      ]
     },
     "execution_count": 7,
     "metadata": {},
     "output_type": "execute_result"
    }
   ],
   "source": [
    "ratings.head()"
   ]
  },
  {
   "cell_type": "markdown",
   "metadata": {},
   "source": [
    "## Dimensions"
   ]
  },
  {
   "cell_type": "markdown",
   "metadata": {},
   "source": [
    "### Time and Date"
   ]
  },
  {
   "cell_type": "code",
   "execution_count": 8,
   "metadata": {},
   "outputs": [
    {
     "data": {
      "text/plain": [
       "({'anyo': 2005, 'mes': 4, 'dia': 3, 'mes_texto': 'abril'},\n",
       " {'hour': 1, 'minute': 53, 'second': 47})"
      ]
     },
     "execution_count": 8,
     "metadata": {},
     "output_type": "execute_result"
    }
   ],
   "source": [
    "from datetime import datetime as dt\n",
    "\n",
    "mesToTexto = [\n",
    "    'enero',\n",
    "    'febrero',\n",
    "    'marzo',\n",
    "    'abril',\n",
    "    'mayo',\n",
    "    'junio',\n",
    "    'julio',\n",
    "    'agosto',\n",
    "    'septiembre',\n",
    "    'octubre',\n",
    "    'noviembre',\n",
    "    'diciembre',\n",
    "]\n",
    "\n",
    "def getDate(ts):\n",
    "    time = dt.fromtimestamp(ts)\n",
    "    return {\n",
    "        'anyo':  time.year,\n",
    "        'mes':  time.month,\n",
    "        'dia':  time.day,\n",
    "        'mes_texto': mesToTexto[time.month-1]\n",
    "    }\n",
    "\n",
    "def getHour(ts):\n",
    "    time = dt.fromtimestamp(ts)\n",
    "    return {\n",
    "        'hour':  time.hour,\n",
    "        'minute':  time.minute,\n",
    "        'second':  time.second,\n",
    "    }\n",
    "\n",
    "(getDate(1112486027), getHour(1112486027))"
   ]
  },
  {
   "cell_type": "markdown",
   "metadata": {},
   "source": [
    "### Film"
   ]
  },
  {
   "cell_type": "code",
   "execution_count": 9,
   "metadata": {},
   "outputs": [
    {
     "name": "stdout",
     "output_type": "stream",
     "text": [
      "Finding movie id\n",
      "Fetching movie\n",
      "Movie fetched\n"
     ]
    },
    {
     "data": {
      "text/plain": [
       "{'title': 'The City of Lost Children', 'year': 1995, '_movieId': 29}"
      ]
     },
     "execution_count": 9,
     "metadata": {},
     "output_type": "execute_result"
    }
   ],
   "source": [
    "def getFilm(movie_id):\n",
    "    print('Finding movie id')\n",
    "    imdbId = links.loc[links['movieId'] == movie_id]['imdbId']\n",
    "    print('Fetching movie')\n",
    "    movie = imdb.get_movie(imdbId)\n",
    "    print('Movie fetched')\n",
    "    return {\n",
    "        'title': movie.data['title'],\n",
    "        'year': movie.data['year'],\n",
    "        '_movieId': int(movie_id),\n",
    "    }\n",
    "\n",
    "getFilm(29)"
   ]
  },
  {
   "cell_type": "markdown",
   "metadata": {},
   "source": [
    "# ETL"
   ]
  },
  {
   "cell_type": "code",
   "execution_count": 10,
   "metadata": {},
   "outputs": [],
   "source": [
    "datasets = {\n",
    "    'genome-scores': './data/ml-20m/genome-scores.csv',\n",
    "    'genome-tags': './data/ml-20m/genome-tags.csv',\n",
    "    'links': './data/ml-20m/links.csv',\n",
    "    'movie': './data/ml-20m/movies.csv',\n",
    "    'ratings': './data/ml-20m/ratings.csv',\n",
    "    'tags': './data/ml-20m/tags.csv',\n",
    "}"
   ]
  },
  {
   "cell_type": "code",
   "execution_count": 11,
   "metadata": {},
   "outputs": [],
   "source": [
    "import sqlite3\n",
    "\n",
    "db = sqlite3.connect('./data.db')\n",
    "cursor = db.cursor()"
   ]
  },
  {
   "cell_type": "code",
   "execution_count": 12,
   "metadata": {},
   "outputs": [],
   "source": [
    "with open('./modeloA.sql') as schema:\n",
    "    query = schema.read()\n",
    "    cursor.executescript(query)\n",
    "    db.commit()"
   ]
  },
  {
   "cell_type": "code",
   "execution_count": 13,
   "metadata": {},
   "outputs": [],
   "source": [
    "import pandas_profiling\n",
    "import pandas as pd\n",
    "\n",
    "def read(dataset):\n",
    "    print('Reading: ', datasets[dataset])\n",
    "    return pd.read_csv(datasets[dataset])"
   ]
  },
  {
   "cell_type": "code",
   "execution_count": 14,
   "metadata": {},
   "outputs": [],
   "source": [
    "def extractRating(*args):\n",
    "    yield {\n",
    "        'movieId': args[1],\n",
    "        'rating': args[2],\n",
    "        'timestamp': args[3],\n",
    "    }"
   ]
  },
  {
   "cell_type": "code",
   "execution_count": 15,
   "metadata": {},
   "outputs": [],
   "source": [
    "def addDate(rating):\n",
    "    date = getDate(int(rating['timestamp']))\n",
    "    fecha = (date['dia'], date['mes_texto'], date['anyo'])\n",
    "    cursor.execute('SELECT * from Fecha WHERE dia=? AND mes=? AND anyo=?', fecha)\n",
    "    data = cursor.fetchone()\n",
    "    if (data==None):\n",
    "        fecha = (\"{}-{}-{}\".format(date['anyo'], date['mes_texto'], date['dia']),*fecha)\n",
    "        cursor.execute('INSERT INTO Fecha (fecha, dia, mes, anyo) VALUES (?, ?, ?, ?)', fecha)\n",
    "        db.commit()\n",
    "        rating['dateId'] = cursor.lastrowid\n",
    "    else:\n",
    "        rating['dateId'] = data[0]   \n",
    "    yield rating"
   ]
  },
  {
   "cell_type": "code",
   "execution_count": 16,
   "metadata": {},
   "outputs": [],
   "source": [
    "def addHour(rating):\n",
    "    hour = getHour(int(rating['timestamp']))\n",
    "    hora = (hour['hour'],hour['minute'],hour['second'])\n",
    "    cursor.execute('SELECT * from Hora WHERE hora=? AND minuto=? AND segundo=?', hora)\n",
    "    data = cursor.fetchone()\n",
    "    if (data==None):\n",
    "        hora = (*hora, rating['timestamp'])\n",
    "        cursor.execute('INSERT INTO Hora (hora, minuto,segundo, timestamp) VALUES (?, ?, ?, ?)', hora)\n",
    "        db.commit()\n",
    "        rating['hourId'] = cursor.lastrowid\n",
    "    else:\n",
    "        rating['hourId'] = data[0]   \n",
    "    yield rating"
   ]
  },
  {
   "cell_type": "code",
   "execution_count": 17,
   "metadata": {},
   "outputs": [
    {
     "name": "stdout",
     "output_type": "stream",
     "text": [
      "Reading:  ./data/ml-20m/links.csv\n"
     ]
    }
   ],
   "source": [
    "links = read('links')\n",
    "def addFilm(rating):\n",
    "    film = getFilm(int(rating['movieId']))\n",
    "    pelicula = (film['_movieId'], 1)\n",
    "    cursor.execute('SELECT * from Pelicula WHERE idNatural=? AND 1=?', pelicula)\n",
    "    data = cursor.fetchone()\n",
    "    if (data==None):\n",
    "        pelicula = (film['_movieId'], film['title'], film['year'])\n",
    "        cursor.execute('INSERT INTO Pelicula (idNatural, titulo, anyoLanzamiento) VALUES (?, ?, ?)', pelicula)\n",
    "        db.commit()\n",
    "        rating['filmId'] = cursor.lastrowid\n",
    "    else:\n",
    "        rating['filmId'] = data[0]   \n",
    "    yield rating"
   ]
  },
  {
   "cell_type": "code",
   "execution_count": 18,
   "metadata": {},
   "outputs": [],
   "source": [
    "def load(rating):\n",
    "    voto = (rating['userId'], rating['filmId'],rating['hourId'],rating['dateId'],rating['rating'])\n",
    "    cursor.execute('INSERT INTO Voto (clvUsuario, clvPelicula, clvHora, clvFecha, nota) VALUES (?, ?, ?, ?, ?)', voto)\n",
    "    db.commit()\n",
    "    yield"
   ]
  },
  {
   "cell_type": "code",
   "execution_count": 19,
   "metadata": {},
   "outputs": [],
   "source": [
    "def extract():\n",
    "    with open(datasets['ratings']) as f:\n",
    "        next(f)\n",
    "        for line in f:        # create a list of lists\n",
    "            line = line.split(',')\n",
    "            rating = {}\n",
    "            rating['userId'] = line[0]\n",
    "            rating['movieId'] = line[1]\n",
    "            rating['rating'] = line[2]\n",
    "            rating['timestamp'] = line[3].strip('\\n')\n",
    "            yield rating"
   ]
  },
  {
   "cell_type": "code",
   "execution_count": null,
   "metadata": {
    "scrolled": true
   },
   "outputs": [
    {
     "name": "stdout",
     "output_type": "stream",
     "text": [
      "DATE {'userId': '1', 'movieId': '2', 'rating': '3.5', 'timestamp': '1112486027', 'dateId': 1}\n",
      "HOUR {'userId': '1', 'movieId': '2', 'rating': '3.5', 'timestamp': '1112486027', 'dateId': 1, 'hourId': 1}\n",
      "Finding movie id\n",
      "Fetching movie\n",
      "Movie fetched\n",
      "FILM {'userId': '1', 'movieId': '2', 'rating': '3.5', 'timestamp': '1112486027', 'dateId': 1, 'hourId': 1, 'filmId': 1}\n",
      "DATE {'userId': '1', 'movieId': '29', 'rating': '3.5', 'timestamp': '1112484676', 'dateId': 1}\n",
      "HOUR {'userId': '1', 'movieId': '29', 'rating': '3.5', 'timestamp': '1112484676', 'dateId': 1, 'hourId': 2}\n",
      "Finding movie id\n",
      "Fetching movie\n",
      "Movie fetched\n",
      "FILM {'userId': '1', 'movieId': '29', 'rating': '3.5', 'timestamp': '1112484676', 'dateId': 1, 'hourId': 2, 'filmId': 2}\n",
      "DATE {'userId': '1', 'movieId': '32', 'rating': '3.5', 'timestamp': '1112484819', 'dateId': 1}\n",
      "HOUR {'userId': '1', 'movieId': '32', 'rating': '3.5', 'timestamp': '1112484819', 'dateId': 1, 'hourId': 3}\n",
      "Finding movie id\n",
      "Fetching movie\n",
      "Movie fetched\n",
      "FILM {'userId': '1', 'movieId': '32', 'rating': '3.5', 'timestamp': '1112484819', 'dateId': 1, 'hourId': 3, 'filmId': 3}\n",
      "DATE {'userId': '1', 'movieId': '47', 'rating': '3.5', 'timestamp': '1112484727', 'dateId': 1}\n",
      "HOUR {'userId': '1', 'movieId': '47', 'rating': '3.5', 'timestamp': '1112484727', 'dateId': 1, 'hourId': 4}\n",
      "Finding movie id\n",
      "Fetching movie\n",
      "Movie fetched\n",
      "FILM {'userId': '1', 'movieId': '47', 'rating': '3.5', 'timestamp': '1112484727', 'dateId': 1, 'hourId': 4, 'filmId': 4}\n",
      "DATE {'userId': '1', 'movieId': '50', 'rating': '3.5', 'timestamp': '1112484580', 'dateId': 1}\n",
      "HOUR {'userId': '1', 'movieId': '50', 'rating': '3.5', 'timestamp': '1112484580', 'dateId': 1, 'hourId': 5}\n",
      "Finding movie id\n",
      "Fetching movie\n",
      "Movie fetched\n",
      "FILM {'userId': '1', 'movieId': '50', 'rating': '3.5', 'timestamp': '1112484580', 'dateId': 1, 'hourId': 5, 'filmId': 5}\n",
      "DATE {'userId': '1', 'movieId': '112', 'rating': '3.5', 'timestamp': '1094785740', 'dateId': 2}\n",
      "HOUR {'userId': '1', 'movieId': '112', 'rating': '3.5', 'timestamp': '1094785740', 'dateId': 2, 'hourId': 6}\n",
      "Finding movie id\n",
      "Fetching movie\n",
      "Movie fetched\n",
      "FILM {'userId': '1', 'movieId': '112', 'rating': '3.5', 'timestamp': '1094785740', 'dateId': 2, 'hourId': 6, 'filmId': 6}\n",
      "DATE {'userId': '1', 'movieId': '151', 'rating': '4.0', 'timestamp': '1094785734', 'dateId': 2}\n",
      "HOUR {'userId': '1', 'movieId': '151', 'rating': '4.0', 'timestamp': '1094785734', 'dateId': 2, 'hourId': 7}\n",
      "Finding movie id\n",
      "Fetching movie\n",
      "Movie fetched\n",
      "FILM {'userId': '1', 'movieId': '151', 'rating': '4.0', 'timestamp': '1094785734', 'dateId': 2, 'hourId': 7, 'filmId': 7}\n",
      "DATE {'userId': '1', 'movieId': '223', 'rating': '4.0', 'timestamp': '1112485573', 'dateId': 1}\n",
      "HOUR {'userId': '1', 'movieId': '223', 'rating': '4.0', 'timestamp': '1112485573', 'dateId': 1, 'hourId': 8}\n",
      "Finding movie id\n",
      "Fetching movie\n",
      "Movie fetched\n",
      "FILM {'userId': '1', 'movieId': '223', 'rating': '4.0', 'timestamp': '1112485573', 'dateId': 1, 'hourId': 8, 'filmId': 8}\n",
      "DATE {'userId': '1', 'movieId': '253', 'rating': '4.0', 'timestamp': '1112484940', 'dateId': 1}\n",
      "HOUR {'userId': '1', 'movieId': '253', 'rating': '4.0', 'timestamp': '1112484940', 'dateId': 1, 'hourId': 9}\n",
      "Finding movie id\n",
      "Fetching movie\n",
      "Movie fetched\n",
      "FILM {'userId': '1', 'movieId': '253', 'rating': '4.0', 'timestamp': '1112484940', 'dateId': 1, 'hourId': 9, 'filmId': 9}\n",
      "DATE {'userId': '1', 'movieId': '260', 'rating': '4.0', 'timestamp': '1112484826', 'dateId': 1}\n",
      "HOUR {'userId': '1', 'movieId': '260', 'rating': '4.0', 'timestamp': '1112484826', 'dateId': 1, 'hourId': 10}\n",
      "Finding movie id\n",
      "Fetching movie\n",
      "Movie fetched\n",
      "FILM {'userId': '1', 'movieId': '260', 'rating': '4.0', 'timestamp': '1112484826', 'dateId': 1, 'hourId': 10, 'filmId': 10}\n",
      "DATE {'userId': '1', 'movieId': '293', 'rating': '4.0', 'timestamp': '1112484703', 'dateId': 1}\n",
      "HOUR {'userId': '1', 'movieId': '293', 'rating': '4.0', 'timestamp': '1112484703', 'dateId': 1, 'hourId': 11}\n",
      "Finding movie id\n",
      "Fetching movie\n",
      "Movie fetched\n",
      "FILM {'userId': '1', 'movieId': '293', 'rating': '4.0', 'timestamp': '1112484703', 'dateId': 1, 'hourId': 11, 'filmId': 11}\n",
      "DATE {'userId': '1', 'movieId': '296', 'rating': '4.0', 'timestamp': '1112484767', 'dateId': 1}\n",
      "HOUR {'userId': '1', 'movieId': '296', 'rating': '4.0', 'timestamp': '1112484767', 'dateId': 1, 'hourId': 12}\n",
      "Finding movie id\n",
      "Fetching movie\n",
      "Movie fetched\n",
      "FILM {'userId': '1', 'movieId': '296', 'rating': '4.0', 'timestamp': '1112484767', 'dateId': 1, 'hourId': 12, 'filmId': 12}\n",
      "DATE {'userId': '1', 'movieId': '318', 'rating': '4.0', 'timestamp': '1112484798', 'dateId': 1}\n",
      "HOUR {'userId': '1', 'movieId': '318', 'rating': '4.0', 'timestamp': '1112484798', 'dateId': 1, 'hourId': 13}\n",
      "Finding movie id\n",
      "Fetching movie\n",
      "Movie fetched\n",
      "FILM {'userId': '1', 'movieId': '318', 'rating': '4.0', 'timestamp': '1112484798', 'dateId': 1, 'hourId': 13, 'filmId': 13}\n",
      "DATE {'userId': '1', 'movieId': '337', 'rating': '3.5', 'timestamp': '1094785709', 'dateId': 2}\n",
      "HOUR {'userId': '1', 'movieId': '337', 'rating': '3.5', 'timestamp': '1094785709', 'dateId': 2, 'hourId': 14}\n",
      "Finding movie id\n",
      "Fetching movie\n",
      "Movie fetched\n",
      "FILM {'userId': '1', 'movieId': '337', 'rating': '3.5', 'timestamp': '1094785709', 'dateId': 2, 'hourId': 14, 'filmId': 14}\n",
      "DATE {'userId': '1', 'movieId': '367', 'rating': '3.5', 'timestamp': '1112485980', 'dateId': 1}\n",
      "HOUR {'userId': '1', 'movieId': '367', 'rating': '3.5', 'timestamp': '1112485980', 'dateId': 1, 'hourId': 15}\n",
      "Finding movie id\n",
      "Fetching movie\n",
      "Movie fetched\n",
      "FILM {'userId': '1', 'movieId': '367', 'rating': '3.5', 'timestamp': '1112485980', 'dateId': 1, 'hourId': 15, 'filmId': 15}\n",
      "DATE {'userId': '1', 'movieId': '541', 'rating': '4.0', 'timestamp': '1112484603', 'dateId': 1}\n",
      "HOUR {'userId': '1', 'movieId': '541', 'rating': '4.0', 'timestamp': '1112484603', 'dateId': 1, 'hourId': 16}\n",
      "Finding movie id\n",
      "Fetching movie\n",
      "Movie fetched\n",
      "FILM {'userId': '1', 'movieId': '541', 'rating': '4.0', 'timestamp': '1112484603', 'dateId': 1, 'hourId': 16, 'filmId': 16}\n",
      "DATE {'userId': '1', 'movieId': '589', 'rating': '3.5', 'timestamp': '1112485557', 'dateId': 1}\n",
      "HOUR {'userId': '1', 'movieId': '589', 'rating': '3.5', 'timestamp': '1112485557', 'dateId': 1, 'hourId': 17}\n",
      "Finding movie id\n",
      "Fetching movie\n",
      "Movie fetched\n",
      "FILM {'userId': '1', 'movieId': '589', 'rating': '3.5', 'timestamp': '1112485557', 'dateId': 1, 'hourId': 17, 'filmId': 17}\n",
      "DATE {'userId': '1', 'movieId': '593', 'rating': '3.5', 'timestamp': '1112484661', 'dateId': 1}\n",
      "HOUR {'userId': '1', 'movieId': '593', 'rating': '3.5', 'timestamp': '1112484661', 'dateId': 1, 'hourId': 18}\n",
      "Finding movie id\n",
      "Fetching movie\n",
      "Movie fetched\n",
      "FILM {'userId': '1', 'movieId': '593', 'rating': '3.5', 'timestamp': '1112484661', 'dateId': 1, 'hourId': 18, 'filmId': 18}\n",
      "DATE {'userId': '1', 'movieId': '653', 'rating': '3.0', 'timestamp': '1094785691', 'dateId': 2}\n",
      "HOUR {'userId': '1', 'movieId': '653', 'rating': '3.0', 'timestamp': '1094785691', 'dateId': 2, 'hourId': 19}\n",
      "Finding movie id\n",
      "Fetching movie\n",
      "Movie fetched\n",
      "FILM {'userId': '1', 'movieId': '653', 'rating': '3.0', 'timestamp': '1094785691', 'dateId': 2, 'hourId': 19, 'filmId': 19}\n",
      "DATE {'userId': '1', 'movieId': '919', 'rating': '3.5', 'timestamp': '1094785621', 'dateId': 2}\n",
      "HOUR {'userId': '1', 'movieId': '919', 'rating': '3.5', 'timestamp': '1094785621', 'dateId': 2, 'hourId': 20}\n",
      "Finding movie id\n",
      "Fetching movie\n",
      "Movie fetched\n",
      "FILM {'userId': '1', 'movieId': '919', 'rating': '3.5', 'timestamp': '1094785621', 'dateId': 2, 'hourId': 20, 'filmId': 20}\n",
      "DATE {'userId': '1', 'movieId': '924', 'rating': '3.5', 'timestamp': '1094785598', 'dateId': 2}\n",
      "HOUR {'userId': '1', 'movieId': '924', 'rating': '3.5', 'timestamp': '1094785598', 'dateId': 2, 'hourId': 21}\n",
      "Finding movie id\n",
      "Fetching movie\n",
      "Movie fetched\n",
      "FILM {'userId': '1', 'movieId': '924', 'rating': '3.5', 'timestamp': '1094785598', 'dateId': 2, 'hourId': 21, 'filmId': 21}\n",
      "DATE {'userId': '1', 'movieId': '1009', 'rating': '3.5', 'timestamp': '1112486013', 'dateId': 1}\n",
      "HOUR {'userId': '1', 'movieId': '1009', 'rating': '3.5', 'timestamp': '1112486013', 'dateId': 1, 'hourId': 22}\n",
      "Finding movie id\n",
      "Fetching movie\n",
      "Movie fetched\n",
      "FILM {'userId': '1', 'movieId': '1009', 'rating': '3.5', 'timestamp': '1112486013', 'dateId': 1, 'hourId': 22, 'filmId': 22}\n",
      "DATE {'userId': '1', 'movieId': '1036', 'rating': '4.0', 'timestamp': '1112485480', 'dateId': 1}\n",
      "HOUR {'userId': '1', 'movieId': '1036', 'rating': '4.0', 'timestamp': '1112485480', 'dateId': 1, 'hourId': 23}\n",
      "Finding movie id\n",
      "Fetching movie\n"
     ]
    },
    {
     "name": "stdout",
     "output_type": "stream",
     "text": [
      "Movie fetched\n",
      "FILM {'userId': '1', 'movieId': '1036', 'rating': '4.0', 'timestamp': '1112485480', 'dateId': 1, 'hourId': 23, 'filmId': 23}\n",
      "DATE {'userId': '1', 'movieId': '1079', 'rating': '4.0', 'timestamp': '1094785665', 'dateId': 2}\n",
      "HOUR {'userId': '1', 'movieId': '1079', 'rating': '4.0', 'timestamp': '1094785665', 'dateId': 2, 'hourId': 24}\n",
      "Finding movie id\n",
      "Fetching movie\n",
      "Movie fetched\n",
      "FILM {'userId': '1', 'movieId': '1079', 'rating': '4.0', 'timestamp': '1094785665', 'dateId': 2, 'hourId': 24, 'filmId': 24}\n",
      "DATE {'userId': '1', 'movieId': '1080', 'rating': '3.5', 'timestamp': '1112485375', 'dateId': 1}\n",
      "HOUR {'userId': '1', 'movieId': '1080', 'rating': '3.5', 'timestamp': '1112485375', 'dateId': 1, 'hourId': 25}\n",
      "Finding movie id\n",
      "Fetching movie\n",
      "Movie fetched\n",
      "FILM {'userId': '1', 'movieId': '1080', 'rating': '3.5', 'timestamp': '1112485375', 'dateId': 1, 'hourId': 25, 'filmId': 25}\n",
      "DATE {'userId': '1', 'movieId': '1089', 'rating': '3.5', 'timestamp': '1112484669', 'dateId': 1}\n",
      "HOUR {'userId': '1', 'movieId': '1089', 'rating': '3.5', 'timestamp': '1112484669', 'dateId': 1, 'hourId': 26}\n",
      "Finding movie id\n",
      "Fetching movie\n",
      "Movie fetched\n",
      "FILM {'userId': '1', 'movieId': '1089', 'rating': '3.5', 'timestamp': '1112484669', 'dateId': 1, 'hourId': 26, 'filmId': 26}\n",
      "DATE {'userId': '1', 'movieId': '1090', 'rating': '4.0', 'timestamp': '1112485453', 'dateId': 1}\n",
      "HOUR {'userId': '1', 'movieId': '1090', 'rating': '4.0', 'timestamp': '1112485453', 'dateId': 1, 'hourId': 27}\n",
      "Finding movie id\n",
      "Fetching movie\n",
      "Movie fetched\n",
      "FILM {'userId': '1', 'movieId': '1090', 'rating': '4.0', 'timestamp': '1112485453', 'dateId': 1, 'hourId': 27, 'filmId': 27}\n",
      "DATE {'userId': '1', 'movieId': '1097', 'rating': '4.0', 'timestamp': '1112485701', 'dateId': 1}\n",
      "HOUR {'userId': '1', 'movieId': '1097', 'rating': '4.0', 'timestamp': '1112485701', 'dateId': 1, 'hourId': 28}\n",
      "Finding movie id\n",
      "Fetching movie\n",
      "Movie fetched\n",
      "FILM {'userId': '1', 'movieId': '1097', 'rating': '4.0', 'timestamp': '1112485701', 'dateId': 1, 'hourId': 28, 'filmId': 28}\n",
      "DATE {'userId': '1', 'movieId': '1136', 'rating': '3.5', 'timestamp': '1112484609', 'dateId': 1}\n",
      "HOUR {'userId': '1', 'movieId': '1136', 'rating': '3.5', 'timestamp': '1112484609', 'dateId': 1, 'hourId': 29}\n",
      "Finding movie id\n",
      "Fetching movie\n",
      "Movie fetched\n",
      "FILM {'userId': '1', 'movieId': '1136', 'rating': '3.5', 'timestamp': '1112484609', 'dateId': 1, 'hourId': 29, 'filmId': 29}\n",
      "DATE {'userId': '1', 'movieId': '1193', 'rating': '3.5', 'timestamp': '1112484690', 'dateId': 1}\n",
      "HOUR {'userId': '1', 'movieId': '1193', 'rating': '3.5', 'timestamp': '1112484690', 'dateId': 1, 'hourId': 30}\n",
      "Finding movie id\n",
      "Fetching movie\n",
      "Movie fetched\n",
      "FILM {'userId': '1', 'movieId': '1193', 'rating': '3.5', 'timestamp': '1112484690', 'dateId': 1, 'hourId': 30, 'filmId': 30}\n",
      "DATE {'userId': '1', 'movieId': '1196', 'rating': '4.5', 'timestamp': '1112484742', 'dateId': 1}\n",
      "HOUR {'userId': '1', 'movieId': '1196', 'rating': '4.5', 'timestamp': '1112484742', 'dateId': 1, 'hourId': 31}\n",
      "Finding movie id\n",
      "Fetching movie\n",
      "Movie fetched\n",
      "FILM {'userId': '1', 'movieId': '1196', 'rating': '4.5', 'timestamp': '1112484742', 'dateId': 1, 'hourId': 31, 'filmId': 31}\n",
      "DATE {'userId': '1', 'movieId': '1198', 'rating': '4.5', 'timestamp': '1112484624', 'dateId': 1}\n",
      "HOUR {'userId': '1', 'movieId': '1198', 'rating': '4.5', 'timestamp': '1112484624', 'dateId': 1, 'hourId': 32}\n",
      "Finding movie id\n",
      "Fetching movie\n",
      "Movie fetched\n",
      "FILM {'userId': '1', 'movieId': '1198', 'rating': '4.5', 'timestamp': '1112484624', 'dateId': 1, 'hourId': 32, 'filmId': 32}\n",
      "DATE {'userId': '1', 'movieId': '1200', 'rating': '4.0', 'timestamp': '1112484560', 'dateId': 1}\n",
      "HOUR {'userId': '1', 'movieId': '1200', 'rating': '4.0', 'timestamp': '1112484560', 'dateId': 1, 'hourId': 33}\n",
      "Finding movie id\n",
      "Fetching movie\n",
      "Movie fetched\n",
      "FILM {'userId': '1', 'movieId': '1200', 'rating': '4.0', 'timestamp': '1112484560', 'dateId': 1, 'hourId': 33, 'filmId': 33}\n",
      "DATE {'userId': '1', 'movieId': '1201', 'rating': '3.0', 'timestamp': '1112484642', 'dateId': 1}\n",
      "HOUR {'userId': '1', 'movieId': '1201', 'rating': '3.0', 'timestamp': '1112484642', 'dateId': 1, 'hourId': 34}\n",
      "Finding movie id\n",
      "Fetching movie\n",
      "Movie fetched\n",
      "FILM {'userId': '1', 'movieId': '1201', 'rating': '3.0', 'timestamp': '1112484642', 'dateId': 1, 'hourId': 34, 'filmId': 34}\n",
      "DATE {'userId': '1', 'movieId': '1208', 'rating': '3.5', 'timestamp': '1112484815', 'dateId': 1}\n",
      "HOUR {'userId': '1', 'movieId': '1208', 'rating': '3.5', 'timestamp': '1112484815', 'dateId': 1, 'hourId': 35}\n",
      "Finding movie id\n",
      "Fetching movie\n",
      "Movie fetched\n",
      "FILM {'userId': '1', 'movieId': '1208', 'rating': '3.5', 'timestamp': '1112484815', 'dateId': 1, 'hourId': 35, 'filmId': 35}\n",
      "DATE {'userId': '1', 'movieId': '1214', 'rating': '4.0', 'timestamp': '1094785977', 'dateId': 2}\n",
      "HOUR {'userId': '1', 'movieId': '1214', 'rating': '4.0', 'timestamp': '1094785977', 'dateId': 2, 'hourId': 36}\n",
      "Finding movie id\n",
      "Fetching movie\n",
      "Movie fetched\n",
      "FILM {'userId': '1', 'movieId': '1214', 'rating': '4.0', 'timestamp': '1094785977', 'dateId': 2, 'hourId': 36, 'filmId': 36}\n",
      "DATE {'userId': '1', 'movieId': '1215', 'rating': '4.0', 'timestamp': '1094786082', 'dateId': 2}\n",
      "HOUR {'userId': '1', 'movieId': '1215', 'rating': '4.0', 'timestamp': '1094786082', 'dateId': 2, 'hourId': 37}\n",
      "Finding movie id\n",
      "Fetching movie\n",
      "Movie fetched\n",
      "FILM {'userId': '1', 'movieId': '1215', 'rating': '4.0', 'timestamp': '1094786082', 'dateId': 2, 'hourId': 37, 'filmId': 37}\n",
      "DATE {'userId': '1', 'movieId': '1217', 'rating': '3.5', 'timestamp': '1112484810', 'dateId': 1}\n",
      "HOUR {'userId': '1', 'movieId': '1217', 'rating': '3.5', 'timestamp': '1112484810', 'dateId': 1, 'hourId': 38}\n",
      "Finding movie id\n",
      "Fetching movie\n",
      "Movie fetched\n",
      "FILM {'userId': '1', 'movieId': '1217', 'rating': '3.5', 'timestamp': '1112484810', 'dateId': 1, 'hourId': 38, 'filmId': 38}\n",
      "DATE {'userId': '1', 'movieId': '1219', 'rating': '4.0', 'timestamp': '1094785994', 'dateId': 2}\n",
      "HOUR {'userId': '1', 'movieId': '1219', 'rating': '4.0', 'timestamp': '1094785994', 'dateId': 2, 'hourId': 39}\n",
      "Finding movie id\n",
      "Fetching movie\n",
      "Movie fetched\n",
      "FILM {'userId': '1', 'movieId': '1219', 'rating': '4.0', 'timestamp': '1094785994', 'dateId': 2, 'hourId': 39, 'filmId': 39}\n",
      "DATE {'userId': '1', 'movieId': '1222', 'rating': '3.5', 'timestamp': '1112484637', 'dateId': 1}\n",
      "HOUR {'userId': '1', 'movieId': '1222', 'rating': '3.5', 'timestamp': '1112484637', 'dateId': 1, 'hourId': 40}\n",
      "Finding movie id\n",
      "Fetching movie\n",
      "Movie fetched\n",
      "FILM {'userId': '1', 'movieId': '1222', 'rating': '3.5', 'timestamp': '1112484637', 'dateId': 1, 'hourId': 40, 'filmId': 40}\n",
      "DATE {'userId': '1', 'movieId': '1240', 'rating': '4.0', 'timestamp': '1112485401', 'dateId': 1}\n",
      "HOUR {'userId': '1', 'movieId': '1240', 'rating': '4.0', 'timestamp': '1112485401', 'dateId': 1, 'hourId': 41}\n",
      "Finding movie id\n",
      "Fetching movie\n",
      "Movie fetched\n",
      "FILM {'userId': '1', 'movieId': '1240', 'rating': '4.0', 'timestamp': '1112485401', 'dateId': 1, 'hourId': 41, 'filmId': 41}\n",
      "DATE {'userId': '1', 'movieId': '1243', 'rating': '3.0', 'timestamp': '1112485567', 'dateId': 1}\n",
      "HOUR {'userId': '1', 'movieId': '1243', 'rating': '3.0', 'timestamp': '1112485567', 'dateId': 1, 'hourId': 42}\n",
      "Finding movie id\n",
      "Fetching movie\n",
      "Movie fetched\n",
      "FILM {'userId': '1', 'movieId': '1243', 'rating': '3.0', 'timestamp': '1112485567', 'dateId': 1, 'hourId': 42, 'filmId': 42}\n",
      "DATE {'userId': '1', 'movieId': '1246', 'rating': '3.5', 'timestamp': '1094785759', 'dateId': 2}\n",
      "HOUR {'userId': '1', 'movieId': '1246', 'rating': '3.5', 'timestamp': '1094785759', 'dateId': 2, 'hourId': 43}\n",
      "Finding movie id\n",
      "Fetching movie\n",
      "Movie fetched\n",
      "FILM {'userId': '1', 'movieId': '1246', 'rating': '3.5', 'timestamp': '1094785759', 'dateId': 2, 'hourId': 43, 'filmId': 43}\n",
      "DATE {'userId': '1', 'movieId': '1249', 'rating': '4.0', 'timestamp': '1112485382', 'dateId': 1}\n",
      "HOUR {'userId': '1', 'movieId': '1249', 'rating': '4.0', 'timestamp': '1112485382', 'dateId': 1, 'hourId': 44}\n",
      "Finding movie id\n",
      "Fetching movie\n",
      "Movie fetched\n",
      "FILM {'userId': '1', 'movieId': '1249', 'rating': '4.0', 'timestamp': '1112485382', 'dateId': 1, 'hourId': 44, 'filmId': 44}\n",
      "DATE {'userId': '1', 'movieId': '1258', 'rating': '4.0', 'timestamp': '1094785994', 'dateId': 2}\n",
      "HOUR {'userId': '1', 'movieId': '1258', 'rating': '4.0', 'timestamp': '1094785994', 'dateId': 2, 'hourId': 39}\n",
      "Finding movie id\n",
      "Fetching movie\n"
     ]
    },
    {
     "name": "stdout",
     "output_type": "stream",
     "text": [
      "Movie fetched\n",
      "FILM {'userId': '1', 'movieId': '1258', 'rating': '4.0', 'timestamp': '1094785994', 'dateId': 2, 'hourId': 39, 'filmId': 45}\n",
      "DATE {'userId': '1', 'movieId': '1259', 'rating': '4.0', 'timestamp': '1112485440', 'dateId': 1}\n",
      "HOUR {'userId': '1', 'movieId': '1259', 'rating': '4.0', 'timestamp': '1112485440', 'dateId': 1, 'hourId': 45}\n",
      "Finding movie id\n",
      "Fetching movie\n",
      "Movie fetched\n",
      "FILM {'userId': '1', 'movieId': '1259', 'rating': '4.0', 'timestamp': '1112485440', 'dateId': 1, 'hourId': 45, 'filmId': 46}\n",
      "DATE {'userId': '1', 'movieId': '1261', 'rating': '3.5', 'timestamp': '1094786113', 'dateId': 2}\n",
      "HOUR {'userId': '1', 'movieId': '1261', 'rating': '3.5', 'timestamp': '1094786113', 'dateId': 2, 'hourId': 46}\n",
      "Finding movie id\n",
      "Fetching movie\n",
      "Movie fetched\n",
      "FILM {'userId': '1', 'movieId': '1261', 'rating': '3.5', 'timestamp': '1094786113', 'dateId': 2, 'hourId': 46, 'filmId': 47}\n",
      "DATE {'userId': '1', 'movieId': '1262', 'rating': '3.5', 'timestamp': '1112484735', 'dateId': 1}\n",
      "HOUR {'userId': '1', 'movieId': '1262', 'rating': '3.5', 'timestamp': '1112484735', 'dateId': 1, 'hourId': 47}\n",
      "Finding movie id\n",
      "Fetching movie\n",
      "Movie fetched\n",
      "FILM {'userId': '1', 'movieId': '1262', 'rating': '3.5', 'timestamp': '1112484735', 'dateId': 1, 'hourId': 47, 'filmId': 48}\n",
      "DATE {'userId': '1', 'movieId': '1266', 'rating': '4.0', 'timestamp': '1112485371', 'dateId': 1}\n",
      "HOUR {'userId': '1', 'movieId': '1266', 'rating': '4.0', 'timestamp': '1112485371', 'dateId': 1, 'hourId': 48}\n",
      "Finding movie id\n",
      "Fetching movie\n",
      "Movie fetched\n",
      "FILM {'userId': '1', 'movieId': '1266', 'rating': '4.0', 'timestamp': '1112485371', 'dateId': 1, 'hourId': 48, 'filmId': 49}\n",
      "DATE {'userId': '1', 'movieId': '1278', 'rating': '4.0', 'timestamp': '1094785986', 'dateId': 2}\n",
      "HOUR {'userId': '1', 'movieId': '1278', 'rating': '4.0', 'timestamp': '1094785986', 'dateId': 2, 'hourId': 49}\n",
      "Finding movie id\n",
      "Fetching movie\n",
      "Movie fetched\n",
      "FILM {'userId': '1', 'movieId': '1278', 'rating': '4.0', 'timestamp': '1094785986', 'dateId': 2, 'hourId': 49, 'filmId': 50}\n",
      "DATE {'userId': '1', 'movieId': '1291', 'rating': '3.5', 'timestamp': '1112485525', 'dateId': 1}\n",
      "HOUR {'userId': '1', 'movieId': '1291', 'rating': '3.5', 'timestamp': '1112485525', 'dateId': 1, 'hourId': 50}\n",
      "Finding movie id\n",
      "Fetching movie\n"
     ]
    }
   ],
   "source": [
    "for a in extract():\n",
    "    for a in addDate(a):\n",
    "        print('DATE',a)\n",
    "        for a in addHour(a):\n",
    "            print('HOUR',a)\n",
    "            for a in addFilm(a):\n",
    "                print('FILM',a)\n",
    "                for a in load(a):\n",
    "                    pass"
   ]
  }
 ],
 "metadata": {
  "kernelspec": {
   "display_name": "Python 3",
   "language": "python",
   "name": "python3"
  },
  "language_info": {
   "codemirror_mode": {
    "name": "ipython",
    "version": 3
   },
   "file_extension": ".py",
   "mimetype": "text/x-python",
   "name": "python",
   "nbconvert_exporter": "python",
   "pygments_lexer": "ipython3",
   "version": "3.6.7"
  }
 },
 "nbformat": 4,
 "nbformat_minor": 2
}
