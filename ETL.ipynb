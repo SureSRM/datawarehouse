{
 "cells": [
  {
   "cell_type": "markdown",
   "metadata": {},
   "source": [
    "# Dataosuces declaration"
   ]
  },
  {
   "cell_type": "markdown",
   "metadata": {},
   "source": [
    "## IMDB Datasource"
   ]
  },
  {
   "cell_type": "code",
   "execution_count": 1,
   "metadata": {},
   "outputs": [],
   "source": [
    "from imdb import IMDb\n",
    "imdb = IMDb()\n",
    "# [ (x.data['title'], x.data['rating']) for x in imdb.get_top250_movies() ][0:25]"
   ]
  },
  {
   "cell_type": "markdown",
   "metadata": {},
   "source": [
    "## MovieLens Datasource"
   ]
  },
  {
   "cell_type": "code",
   "execution_count": 2,
   "metadata": {},
   "outputs": [],
   "source": [
    "datasets = {\n",
    "    'genome-scores': './data/ml-latest-small/genome-scores.csv',\n",
    "    'genome-tags': './data/ml-latest-small/genome-tags.csv',\n",
    "    'links': './data/ml-latest-small/links.csv',\n",
    "    'movie': './data/ml-latest-small/movies.csv',\n",
    "    'ratings': './data/ml-latest-small/ratings.csv',\n",
    "    'tags': './data/ml-latest-small/tags.csv',\n",
    "}"
   ]
  },
  {
   "cell_type": "markdown",
   "metadata": {},
   "source": [
    "# Data Profiling"
   ]
  },
  {
   "cell_type": "code",
   "execution_count": 3,
   "metadata": {},
   "outputs": [],
   "source": [
    "import pandas_profiling\n",
    "import pandas as pd\n",
    "\n",
    "def read(dataset):\n",
    "    print('Reading: ', datasets[dataset])\n",
    "    return pd.read_csv(datasets[dataset])"
   ]
  },
  {
   "cell_type": "code",
   "execution_count": 4,
   "metadata": {},
   "outputs": [],
   "source": [
    "from IPython.display import display\n",
    "\n",
    "# for dataset_k in datasets:\n",
    "#     df = read(dataset_k)\n",
    "#     display(df.head())"
   ]
  },
  {
   "cell_type": "markdown",
   "metadata": {},
   "source": [
    "# Cube creation"
   ]
  },
  {
   "cell_type": "code",
   "execution_count": 5,
   "metadata": {
    "scrolled": true
   },
   "outputs": [
    {
     "name": "stdout",
     "output_type": "stream",
     "text": [
      "Reading:  ./data/ml-latest-small/links.csv\n",
      "Reading:  ./data/ml-latest-small/ratings.csv\n"
     ]
    }
   ],
   "source": [
    "links = read('links')\n",
    "ratings = read('ratings')"
   ]
  },
  {
   "cell_type": "markdown",
   "metadata": {},
   "source": [
    "## Facts"
   ]
  },
  {
   "cell_type": "code",
   "execution_count": 6,
   "metadata": {},
   "outputs": [
    {
     "data": {
      "text/html": [
       "<div>\n",
       "<style scoped>\n",
       "    .dataframe tbody tr th:only-of-type {\n",
       "        vertical-align: middle;\n",
       "    }\n",
       "\n",
       "    .dataframe tbody tr th {\n",
       "        vertical-align: top;\n",
       "    }\n",
       "\n",
       "    .dataframe thead th {\n",
       "        text-align: right;\n",
       "    }\n",
       "</style>\n",
       "<table border=\"1\" class=\"dataframe\">\n",
       "  <thead>\n",
       "    <tr style=\"text-align: right;\">\n",
       "      <th></th>\n",
       "      <th>userId</th>\n",
       "      <th>movieId</th>\n",
       "      <th>rating</th>\n",
       "      <th>timestamp</th>\n",
       "    </tr>\n",
       "  </thead>\n",
       "  <tbody>\n",
       "    <tr>\n",
       "      <th>0</th>\n",
       "      <td>1</td>\n",
       "      <td>1</td>\n",
       "      <td>4.0</td>\n",
       "      <td>964982703</td>\n",
       "    </tr>\n",
       "    <tr>\n",
       "      <th>1</th>\n",
       "      <td>1</td>\n",
       "      <td>3</td>\n",
       "      <td>4.0</td>\n",
       "      <td>964981247</td>\n",
       "    </tr>\n",
       "    <tr>\n",
       "      <th>2</th>\n",
       "      <td>1</td>\n",
       "      <td>6</td>\n",
       "      <td>4.0</td>\n",
       "      <td>964982224</td>\n",
       "    </tr>\n",
       "    <tr>\n",
       "      <th>3</th>\n",
       "      <td>1</td>\n",
       "      <td>47</td>\n",
       "      <td>5.0</td>\n",
       "      <td>964983815</td>\n",
       "    </tr>\n",
       "    <tr>\n",
       "      <th>4</th>\n",
       "      <td>1</td>\n",
       "      <td>50</td>\n",
       "      <td>5.0</td>\n",
       "      <td>964982931</td>\n",
       "    </tr>\n",
       "  </tbody>\n",
       "</table>\n",
       "</div>"
      ],
      "text/plain": [
       "   userId  movieId  rating  timestamp\n",
       "0       1        1     4.0  964982703\n",
       "1       1        3     4.0  964981247\n",
       "2       1        6     4.0  964982224\n",
       "3       1       47     5.0  964983815\n",
       "4       1       50     5.0  964982931"
      ]
     },
     "execution_count": 6,
     "metadata": {},
     "output_type": "execute_result"
    }
   ],
   "source": [
    "ratings.head()"
   ]
  },
  {
   "cell_type": "markdown",
   "metadata": {},
   "source": [
    "## Dimensions"
   ]
  },
  {
   "cell_type": "markdown",
   "metadata": {},
   "source": [
    "### Time and Date"
   ]
  },
  {
   "cell_type": "code",
   "execution_count": 7,
   "metadata": {},
   "outputs": [
    {
     "data": {
      "text/plain": [
       "({'anyo': 2005, 'mes': 4, 'dia': 3, 'mes_texto': 'abril'},\n",
       " {'hour': 1, 'minute': 53, 'second': 47})"
      ]
     },
     "execution_count": 7,
     "metadata": {},
     "output_type": "execute_result"
    }
   ],
   "source": [
    "from datetime import datetime as dt\n",
    "\n",
    "mesToTexto = [\n",
    "    'enero',\n",
    "    'febrero',\n",
    "    'marzo',\n",
    "    'abril',\n",
    "    'mayo',\n",
    "    'junio',\n",
    "    'julio',\n",
    "    'agosto',\n",
    "    'septiembre',\n",
    "    'octubre',\n",
    "    'noviembre',\n",
    "    'diciembre',\n",
    "]\n",
    "\n",
    "def getDate(ts):\n",
    "    time = dt.fromtimestamp(ts)\n",
    "    return {\n",
    "        'anyo':  time.year,\n",
    "        'mes':  time.month,\n",
    "        'dia':  time.day,\n",
    "        'mes_texto': mesToTexto[time.month-1]\n",
    "    }\n",
    "\n",
    "def getHour(ts):\n",
    "    time = dt.fromtimestamp(ts)\n",
    "    return {\n",
    "        'hour':  time.hour,\n",
    "        'minute':  time.minute,\n",
    "        'second':  time.second,\n",
    "    }\n",
    "\n",
    "(getDate(1112486027), getHour(1112486027))"
   ]
  },
  {
   "cell_type": "markdown",
   "metadata": {},
   "source": [
    "### Film"
   ]
  },
  {
   "cell_type": "code",
   "execution_count": 8,
   "metadata": {},
   "outputs": [
    {
     "data": {
      "text/plain": [
       "{'title': 'The City of Lost Children',\n",
       " 'year': 1995,\n",
       " 'genre': 'Fantasy',\n",
       " '_movieId': 29}"
      ]
     },
     "execution_count": 8,
     "metadata": {},
     "output_type": "execute_result"
    }
   ],
   "source": [
    "def getFilm(movie_id):\n",
    "    imdbId = links.loc[links['movieId'] == movie_id]['imdbId']\n",
    "    movie = imdb.get_movie(imdbId)\n",
    "    return {\n",
    "        'title': movie.data['title'],\n",
    "        'year': movie.data['year'],\n",
    "        'genre': movie.data['genres'][0] if movie.data['genres'] else 'none',\n",
    "        '_movieId': int(movie_id),\n",
    "    }\n",
    "\n",
    "getFilm(29)"
   ]
  },
  {
   "cell_type": "markdown",
   "metadata": {},
   "source": [
    "# ETL"
   ]
  },
  {
   "cell_type": "code",
   "execution_count": 9,
   "metadata": {},
   "outputs": [],
   "source": [
    "datasets = {\n",
    "    'genome-scores': './data/ml-20m/genome-scores.csv',\n",
    "    'genome-tags': './data/ml-20m/genome-tags.csv',\n",
    "    'links': './data/ml-20m/links.csv',\n",
    "    'movie': './data/ml-20m/movies.csv',\n",
    "    'ratings': './data/ml-20m/ratings.csv',\n",
    "    'tags': './data/ml-20m/tags.csv',\n",
    "}"
   ]
  },
  {
   "cell_type": "code",
   "execution_count": 10,
   "metadata": {},
   "outputs": [],
   "source": [
    "import sqlite3\n",
    "\n",
    "db = sqlite3.connect('./data.db')\n",
    "cursor = db.cursor()"
   ]
  },
  {
   "cell_type": "code",
   "execution_count": 11,
   "metadata": {},
   "outputs": [],
   "source": [
    "with open('./modeloA.sql') as schema:\n",
    "    query = schema.read()\n",
    "    cursor.executescript(query)\n",
    "    db.commit()"
   ]
  },
  {
   "cell_type": "code",
   "execution_count": 12,
   "metadata": {},
   "outputs": [],
   "source": [
    "import pandas_profiling\n",
    "import pandas as pd\n",
    "\n",
    "def read(dataset):\n",
    "    print('Reading: ', datasets[dataset])\n",
    "    return pd.read_csv(datasets[dataset])"
   ]
  },
  {
   "cell_type": "code",
   "execution_count": 13,
   "metadata": {},
   "outputs": [],
   "source": [
    "def extractRating(*args):\n",
    "    yield {\n",
    "        'movieId': args[1],\n",
    "        'rating': args[2],\n",
    "        'timestamp': args[3],\n",
    "    }"
   ]
  },
  {
   "cell_type": "code",
   "execution_count": 14,
   "metadata": {},
   "outputs": [],
   "source": [
    "def addDate(rating):\n",
    "    date = getDate(int(rating['timestamp']))\n",
    "    fecha = (date['dia'], date['mes_texto'], date['anyo'])\n",
    "    cursor.execute('SELECT * from Fecha WHERE dia=? AND mes=? AND anyo=?', fecha)\n",
    "    data = cursor.fetchone()\n",
    "    if (data==None):\n",
    "        fecha = (\"{}-{}-{}\".format(date['anyo'], date['mes'], date['dia']),*fecha)\n",
    "        cursor.execute('INSERT INTO Fecha (fecha, dia, mes, anyo) VALUES (?, ?, ?, ?)', fecha)\n",
    "        db.commit()\n",
    "        rating['dateId'] = cursor.lastrowid\n",
    "    else:\n",
    "        rating['dateId'] = data[0]   \n",
    "    yield rating"
   ]
  },
  {
   "cell_type": "code",
   "execution_count": 15,
   "metadata": {},
   "outputs": [],
   "source": [
    "def addHour(rating):\n",
    "    hour = getHour(int(rating['timestamp']))\n",
    "    hora = (hour['hour'],hour['minute'],hour['second'])\n",
    "    cursor.execute('SELECT * from Hora WHERE hora=? AND minuto=? AND segundo=?', hora)\n",
    "    data = cursor.fetchone()\n",
    "    if (data==None):\n",
    "        hora = (*hora, rating['timestamp'])\n",
    "        cursor.execute('INSERT INTO Hora (hora, minuto,segundo, timestamp) VALUES (?, ?, ?, ?)', hora)\n",
    "        db.commit()\n",
    "        rating['hourId'] = cursor.lastrowid\n",
    "    else:\n",
    "        rating['hourId'] = data[0]   \n",
    "    yield rating"
   ]
  },
  {
   "cell_type": "code",
   "execution_count": 16,
   "metadata": {},
   "outputs": [
    {
     "name": "stdout",
     "output_type": "stream",
     "text": [
      "Reading:  ./data/ml-20m/links.csv\n"
     ]
    }
   ],
   "source": [
    "links = read('links')\n",
    "def addFilm(rating):\n",
    "    pelicula = (rating['movieId'],)\n",
    "    cursor.execute('SELECT * from Pelicula WHERE idNatural=?', pelicula)\n",
    "    data = cursor.fetchone()\n",
    "    if (data==None):\n",
    "        film = getFilm(int(rating['movieId']))\n",
    "        pelicula = (film['_movieId'], film['title'], film['year'], film['genre'])\n",
    "        cursor.execute('INSERT INTO Pelicula (idNatural, titulo, anyoLanzamiento, genero) VALUES (?, ?, ?, ?)', pelicula)\n",
    "        db.commit()\n",
    "        rating['filmId'] = cursor.lastrowid\n",
    "    else:\n",
    "        rating['filmId'] = data[0]   \n",
    "    yield rating"
   ]
  },
  {
   "cell_type": "code",
   "execution_count": 17,
   "metadata": {},
   "outputs": [],
   "source": [
    "def load(rating):\n",
    "    voto = (rating['userId'], rating['filmId'],rating['hourId'],rating['dateId'],rating['rating'])\n",
    "    cursor.execute('INSERT INTO Voto (clvUsuario, clvPelicula, clvHora, clvFecha, nota) VALUES (?, ?, ?, ?, ?)', voto)\n",
    "    db.commit()\n",
    "    yield"
   ]
  },
  {
   "cell_type": "code",
   "execution_count": 18,
   "metadata": {},
   "outputs": [],
   "source": [
    "def extract():\n",
    "    with open(datasets['ratings']) as f:\n",
    "        next(f)\n",
    "        for line in f:        # create a list of lists\n",
    "            line = line.split(',')\n",
    "            rating = {}\n",
    "            rating['userId'] = line[0]\n",
    "            rating['movieId'] = line[1]\n",
    "            rating['rating'] = line[2]\n",
    "            rating['timestamp'] = line[3].strip('\\n')\n",
    "            yield rating"
   ]
  },
  {
   "cell_type": "code",
   "execution_count": null,
   "metadata": {
    "scrolled": false
   },
   "outputs": [],
   "source": [
    "for a in extract():\n",
    "    try:\n",
    "        for a in addDate(a):\n",
    "            print('DATE',a)\n",
    "            for a in addHour(a):\n",
    "                print('HOUR',a)\n",
    "                for a in addFilm(a):\n",
    "                    print('FILM',a)\n",
    "                    for a in load(a):\n",
    "                        pass\n",
    "    except:\n",
    "        print('Error')\n",
    "        pass"
   ]
  }
 ],
 "metadata": {
  "kernelspec": {
   "display_name": "Python 3",
   "language": "python",
   "name": "python3"
  },
  "language_info": {
   "codemirror_mode": {
    "name": "ipython",
    "version": 3
   },
   "file_extension": ".py",
   "mimetype": "text/x-python",
   "name": "python",
   "nbconvert_exporter": "python",
   "pygments_lexer": "ipython3",
   "version": "3.6.7"
  }
 },
 "nbformat": 4,
 "nbformat_minor": 2
}
